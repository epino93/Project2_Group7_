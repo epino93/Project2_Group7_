# Import the dependencies
import pandas as pd
import numpy as np
import datetime

# Plotting
import matplotlib.pyplot as plt
import seaborn as sns

# ORM Stuff
from sqlalchemy import create_engine, inspect, text, func
from sqlalchemy.orm import Session
from sqlalchemy.ext.automap import automap_base








conn = engine.connect()


query = text(f"""SELECT
	f.rating,
	count(film_id) as num_films,
	avg(f.rental_rate) as avg_rental_rate
FROM
	film f
GROUP BY
	f.rating
ORDER BY
	avg_rental_rate DESC;
""")

df = pd.read_sql(query, con=conn)
df.head()


plt.bar(df.rating, df.avg_rental_rate)
plt.show()


# ORM

# Declare a Base using `automap_base()`
Base = automap_base()

# Use the Base class to reflect the database tables
Base.prepare(autoload_with=engine)

# Print all of the classes mapped to the Base
Base.classes.keys()


# Assign Classes
Actor = Base.classes.actor
Film = Base.classes.film
Film_Actor = Base.classes.film_actor


# Create a session
session = Session(engine) # ORM


# Query using the ORM session
rows = (
    session.query(
        Film.rating,
        func.count(Film.film_id).label('num_films'),
        func.avg(Film.rental_rate).label('avg_rental_rate')
    )
    .group_by(Film.rating)
    .order_by(func.avg(Film.rental_rate).desc())
    .all()
)

dfa = pd.DataFrame(rows)
dfa.head()


plt.bar(dfa.rating, dfa.avg_rental_rate)
plt.show()


conn.close()
session.close()


engine.dispose()
