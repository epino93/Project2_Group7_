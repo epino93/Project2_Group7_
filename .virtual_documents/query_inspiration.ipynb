from matplotlib import style
style.use('fivethirtyeight')

# Import dependencies
import pandas as pd
import numpy as np
import datetime as dt

# Plotting
import matplotlib.pyplot as plt
import seaborn as sns

# ORM
import sqlalchemy
from sqlalchemy import create_engine, inspect, text, func
from sqlalchemy.orm import Session
from sqlalchemy.ext.automap import automap_base



# CONNECT TO POSTGRES
USERNAME = "postgres"
PASSWORD = "postgres"
HOST = "localhost"
PORT = 5432
DATABASE = "crowdfunding_db"
connection_str = f"postgresql://{USERNAME}:{PASSWORD}@{HOST}:{PORT}/{DATABASE}"

# Create Engine
engine = create_engine(connection_str)


# Open a session
with Session(engine) as session:
    # Define a raw SQL query
    query = text("SELECT * FROM campaign WHERE outcome = 'successful' LIMIT 5;")
    result = session.execute(query)
    
    # Iterate over the results
    for row in result:
        print(row)


# Create Inspector Gadget
inspector = inspect(engine)

# Gather the names of the tables
tables = inspector.get_table_names()

#Go Go Gadget print column names
for table in tables:
    print(table)
    print("----------")
    columns = inspector.get_columns(table)
    for column in columns:
        print(column["name"], column["type"])

    print ()


#Create dataframe comparing goal vs pledged amounts where the pledged amount is greater than the goal
query = text("""SELECT
                    cf_id,
                    company_name,
                    description,
                    goal,
                    pledged,
                    backers_count,
                    outcome
                FROM
                    campaign
                WHERE
                    pledged >= goal""")
df = pd.read_sql(query, con=engine)
df


successful = df[df["outcome"] == "successful"].shape[0]
print(successful)


# Join the category table to the campaign table
query = """
SELECT
    campaign.cf_id,
    campaign.contact_id,
    campaign.company_name,
    campaign.description,
    campaign.goal,
    campaign.pledged,
    campaign.outcome,
    campaign.backers_count,
    campaign.country,
    campaign.currency,
    campaign.launched_date,
    campaign.end_date,
    campaign.category_id AS campaign_category_id,
    campaign.subcategory_id,
    campaign.last_updated,
    category.category_id AS category_table_category_id,
    category.category AS category_name
FROM
    campaign
LEFT JOIN
    category
    ON campaign.category_id = category.category_id;
"""
# Execute the query and save the results to a DataFrame
df1 = pd.read_sql(query, con=engine)
df1.head()


df1.sort_values(by="pledged", ascending=False, inplace=True)
df1


df1.outcome.unique()


#Plot number of campaigns per category
category_count=df1.groupby("category_name").size().reset_index(name="count")

plt.figure(figsize=(15, 10))
sns.barplot(
    data=category_count,
    x="category_name",
    y="count",
)

plt.title("Campaigns Count per Category", fontsize=16)
plt.xlabel("Category Name", fontsize=14)
plt.ylabel("Count", fontsize=14)
plt.xticks(rotation=45, fontsize=12)

plt.show()


#Plot outcomes by category
outcome_category =df1.groupby(["category_name", "outcome"]).size().reset_index(name="count")

plt.figure(figsize=(15, 10))
sns.barplot(
    data=outcome_category,
    x="category_name",
    y="count",
    hue="outcome",
    dodge=True
)

plt.title("Outcomes by Category", fontsize=16)
plt.xlabel("Category Name", fontsize=14)
plt.ylabel("Count", fontsize=14)
plt.legend(title="Outcome", fontsize=12)
plt.xticks(rotation=45, fontsize=12)

plt.show()


# Backer count by outcome - Does backer inlfuence successful outcomes?


# Campaigns by country - new df2 - geogrpahical plot 











conn = engine.connect()


query = text(f"""SELECT
	f.rating,
	count(film_id) as num_films,
	avg(f.rental_rate) as avg_rental_rate
FROM
	film f
GROUP BY
	f.rating
ORDER BY
	avg_rental_rate DESC;
""")

df = pd.read_sql(query, con=conn)
df.head()


plt.bar(df.rating, df.avg_rental_rate)
plt.show()


# ORM

# Declare a Base using `automap_base()`
Base = automap_base()

# Use the Base class to reflect the database tables
Base.prepare(autoload_with=engine)

# Print all of the classes mapped to the Base
Base.classes.keys()


# Assign Classes
Actor = Base.classes.actor
Film = Base.classes.film
Film_Actor = Base.classes.film_actor


# Create a session
session = Session(engine) # ORM


# Query using the ORM session
rows = (
    session.query(
        Film.rating,
        func.count(Film.film_id).label('num_films'),
        func.avg(Film.rental_rate).label('avg_rental_rate')
    )
    .group_by(Film.rating)
    .order_by(func.avg(Film.rental_rate).desc())
    .all()
)

dfa = pd.DataFrame(rows)
dfa.head()


plt.bar(dfa.rating, dfa.avg_rental_rate)
plt.show()


conn.close()
session.close()


engine.dispose()
