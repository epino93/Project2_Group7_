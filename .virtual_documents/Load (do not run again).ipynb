# Import the dependencies
import pandas as pd
import numpy as np
import datetime

# Plotting
import matplotlib.pyplot as plt
import seaborn as sns

# ORM Stuff
from sqlalchemy import create_engine, inspect, text, func
from sqlalchemy.orm import Session
from sqlalchemy.ext.automap import automap_base


# CONNECT TO POSTGRES
USERNAME = "postgres"
PASSWORD = "postgres"
HOST = "localhost"
PORT = 5432
DATABASE = "crowdfunding_db"
connection_str = f"postgresql://{USERNAME}:{PASSWORD}@{HOST}:{PORT}/{DATABASE}"

# Create Engine
engine = create_engine(connection_str)


# Create the inspector and connect it to the engine
inspector = inspect(engine)

# Collect the names of tables within the database
tables = inspector.get_table_names()

# Using the inspector to print the column names within the 'dow' table and its types
for table in tables:
    print(table)
    print("--------")
    columns = inspector.get_columns(table)


# ORDER MATTERS. Actor, Film, film_actor
df = pd.read_csv("category.csv")

# Write to SQL (NOTE I AM USING con=engine) THIS IS WHAT WORKS APPARENTLY WHEN WRITING OUT DATA
df.to_sql(name="category", con=engine, index=False, if_exists="append", method="multi")


df = pd.read_csv("subcategory.csv")
df.to_sql(name="subcategory", con=engine, index=False, if_exists="append", method="multi")


df = pd.read_csv("contacts.csv")
df.to_sql(name="contacts", con=engine, index=False, if_exists="append", method="multi")


df = pd.read_csv("campaign.csv")
df.to_sql(name="campaign", con=engine, index=False, if_exists="append", method="multi")


engine.dispose()
