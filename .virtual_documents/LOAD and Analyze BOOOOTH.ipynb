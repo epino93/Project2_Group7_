# Import the dependencies
import pandas as pd
import numpy as np
import datetime

# Plotting
import matplotlib.pyplot as plt
import seaborn as sns

# ORM Stuff
from sqlalchemy import create_engine, inspect, text, func
from sqlalchemy.orm import Session
from sqlalchemy.ext.automap import automap_base


# CONNECT TO POSTGRES
USERNAME = "postgres"
PASSWORD = "postgres"
HOST = "localhost"
PORT = 5432
DATABASE = "crowdfunding_db"
connection_str = f"postgresql://{USERNAME}:{PASSWORD}@{HOST}:{PORT}/{DATABASE}"

# Create Engine
engine = create_engine(connection_str)


# Create the inspector and connect it to the engine
inspector = inspect(engine)

# Collect the names of tables within the database
tables = inspector.get_table_names()

# Using the inspector to print the column names within the 'dow' table and its types
for table in tables:
    print(table)
    print("--------")
    columns = inspector.get_columns(table)
    for column in columns:
        print(column[""], column["category_id"], column["subcategory_id"], column["contacts"], )

    print()


# ORDER MATTERS. Actor, Film, film_actor
df = pd.read_csv("output_data/actor.csv")

# Write to SQL (NOTE I AM USING con=engine) THIS IS WHAT WORKS APPARENTLY WHEN WRITING OUT DATA
df.to_sql(name="actor", con=engine, index=False, if_exists="append", method="multi")


df = pd.read_csv("output_data/film.csv")
df.to_sql(name="film", con=engine, index=False, if_exists="append", method="multi")


df = pd.read_csv("output_data/film_actor.csv")
df.to_sql(name="film_actor", con=engine, index=False, if_exists="append", method="multi")


# YAYAY


# ANALYZE


conn = engine.connect()


query = text(f"""SELECT
	f.rating,
	count(film_id) as num_films,
	avg(f.rental_rate) as avg_rental_rate
FROM
	film f
GROUP BY
	f.rating
ORDER BY
	avg_rental_rate DESC;
""")

df = pd.read_sql(query, con=conn)
df.head()


plt.bar(df.rating, df.avg_rental_rate)
plt.show()


# ORM

# Declare a Base using `automap_base()`
Base = automap_base()

# Use the Base class to reflect the database tables
Base.prepare(autoload_with=engine)

# Print all of the classes mapped to the Base
Base.classes.keys()


# Assign Classes
Actor = Base.classes.actor
Film = Base.classes.film
Film_Actor = Base.classes.film_actor


# Create a session
session = Session(engine) # ORM


# Query using the ORM session
rows = (
    session.query(
        Film.rating,
        func.count(Film.film_id).label('num_films'),
        func.avg(Film.rental_rate).label('avg_rental_rate')
    )
    .group_by(Film.rating)
    .order_by(func.avg(Film.rental_rate).desc())
    .all()
)

dfa = pd.DataFrame(rows)
dfa.head()


plt.bar(dfa.rating, dfa.avg_rental_rate)
plt.show()


conn.close()
session.close()


engine.dispose()



