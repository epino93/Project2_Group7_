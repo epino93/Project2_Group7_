from matplotlib import style
style.use('fivethirtyeight')

# Import dependencies
import pandas as pd
import numpy as np
import datetime as dt

# Plotting
import matplotlib.pyplot as plt
import seaborn as sns
from scipy.stats import linregress
import scipy.stats as sc
from matplotlib.colors import LinearSegmentedColormap

# ORM
import sqlalchemy
from sqlalchemy import create_engine, inspect, text, func
from sqlalchemy.orm import Session
from sqlalchemy.ext.automap import automap_base



# CONNECT TO POSTGRES
USERNAME = "postgres"
PASSWORD = "postgres"
HOST = "localhost"
PORT = 5432
DATABASE = "crowdfunding_db"
connection_str = f"postgresql://{USERNAME}:{PASSWORD}@{HOST}:{PORT}/{DATABASE}"

# Create Engine
engine = create_engine(connection_str)


# Open a session
with Session(engine) as session:
    # Define a raw SQL query
    query = text("SELECT * FROM campaign WHERE outcome = 'successful' LIMIT 5;")
    result = session.execute(query)
    
    # Iterate over the results
    for row in result:
        print(row)


# Create Inspector Gadget
inspector = inspect(engine)

# Gather the names of the tables
tables = inspector.get_table_names()

#Go Go Gadget print column names
for table in tables:
    print(table)
    print("----------")
    columns = inspector.get_columns(table)
    for column in columns:
        print(column["name"], column["type"])

    print ()


#Create dataframe comparing goal vs pledged amounts where the pledged amount is greater than the goal
query = text("""SELECT
                    cf_id,
                    company_name,
                    description,
                    goal,
                    pledged,
                    backers_count,
                    outcome
                FROM
                    campaign
                WHERE
                    pledged >= goal""")
df = pd.read_sql(query, con=engine)
df


successful = df[df["outcome"] == "successful"].shape[0]
print(successful)


# Join the category table to the campaign table
query = """
SELECT
    campaign.cf_id,
    campaign.contact_id,
    campaign.company_name,
    campaign.description,
    campaign.goal,
    campaign.pledged,
    campaign.outcome,
    campaign.backers_count,
    campaign.country,
    campaign.currency,
    campaign.launched_date,
    campaign.end_date,
    campaign.category_id AS campaign_category_id,
    campaign.subcategory_id,
    campaign.last_updated,
    category.category_id AS category_table_category_id,
    category.category AS category_name
FROM
    campaign
LEFT JOIN
    category
    ON campaign.category_id = category.category_id;
"""
# Execute the query and save the results to a DataFrame
df1 = pd.read_sql(query, con=engine)
df1.head()


df1.sort_values(by="pledged", ascending=False, inplace=True)
df1


df1.outcome.unique()


#Plot number of campaigns per category
category_count=df1.groupby("category_name").size().reset_index(name="count")

plt.figure(figsize=(15, 10))
sns.barplot(
    data=category_count,
    x="category_name",
    y="count",
)

plt.title("Campaigns Count per Category", fontsize=16)
plt.xlabel("Category Name", fontsize=14)
plt.ylabel("Count", fontsize=14)
plt.xticks(rotation=45, fontsize=12)

plt.show()


#Plot outcomes by category
outcome_category =df1.groupby(["category_name", "outcome"]).size().reset_index(name="count")

plt.figure(figsize=(15, 10))
sns.barplot(
    data=outcome_category,
    x="category_name",
    y="count",
    hue="outcome",
    dodge=True
)

plt.title("Outcomes by Category", fontsize=16)
plt.xlabel("Category Name", fontsize=14)
plt.ylabel("Count", fontsize=14)
plt.legend(title="Outcome", fontsize=12)
plt.xticks(rotation=45, fontsize=12)

plt.show()


# Aggregate backers count for each category and outcome
backers_data = (
    df1.groupby(['category_name', 'outcome'])['backers_count']
    .sum()
    .reset_index()
)

# Plot
plt.figure(figsize=(12, 8))
sns.barplot(
    data=backers_data,
    x='category_name',
    y='backers_count', 
    hue='outcome',
)

# Customize
plt.title('Cumulative Backers Count by Outcome and Category', fontsize=16)
plt.xlabel('Category Name', fontsize=14)
plt.ylabel('Cumulative Backers Count', fontsize=14)
plt.xticks(rotation=45, fontsize=12)
plt.legend(title='Outcome', fontsize=12)

# Show the plot
plt.show()


# Define the query
query = """
SELECT 
    backers_count, 
    pledged, 
    goal, 
    CASE 
        WHEN pledged >= goal THEN 'successful'
        ELSE 'failed'
    END AS success
FROM campaign;
"""

# Execute the query and save results to a DataFrame
df2 = pd.read_sql(query, con=engine)


# Backers_count vs. pledged, color by success
plt.figure(figsize=(12, 8))
sns.scatterplot(
    data=df2,
    x='backers_count',
    y='pledged',
    hue='success'
)

# Customize the plot
plt.title('Backers Count vs Pledged Amount', fontsize=16)
plt.xlabel('Number of Backers', fontsize=14)
plt.ylabel('Pledged Amount', fontsize=14)
plt.legend(title='Campaign Success', fontsize=12)
plt.grid(True)

# Show the plot
plt.show()


# Outlier Elimination

# Calculate the first (Q1) and third (Q3) quartiles for 'backers_count' and 'pledged'
Q1_backers = df2['backers_count'].quantile(0.25)
Q3_backers = df2['backers_count'].quantile(0.75)
IQR_backers = Q3_backers - Q1_backers

Q1_pledged = df2['pledged'].quantile(0.25)
Q3_pledged = df2['pledged'].quantile(0.75)
IQR_pledged = Q3_pledged - Q1_pledged

# Define the lower and upper bounds
lower_bound_backers = Q1_backers - 1.5 * IQR_backers
upper_bound_backers = Q3_backers + 1.5 * IQR_backers

lower_bound_pledged = Q1_pledged - 1.5 * IQR_pledged
upper_bound_pledged = Q3_pledged + 1.5 * IQR_pledged

# Filter out rows
df2 = df2[
    (df2['backers_count'] >= lower_bound_backers) & (df2['backers_count'] <= upper_bound_backers) &
    (df2['pledged'] >= lower_bound_pledged) & (df2['pledged'] <= upper_bound_pledged)
]

# Check the shape of the updated DataFrame
df2.shape


# Regression for successful campaigns
successful_df = df2[df2['pledged'] >= df2['goal']]
x_values = successful_df['backers_count']
y_values = successful_df['pledged']
(slope, intercept, rvalue, pvalue, stderr) = sc.linregress(x_values, y_values)

# Generate values
values = x_values * slope + intercept
line = f"y = {round(slope, 2)}x + {round(intercept, 2)}"

# Print stats
print(line)
print(f"R-squared: {rvalue**2:.2f}")
print(f"P-value: {pvalue:.2e}")

# Plot
plt.figure(figsize=(15, 8))
plt.scatter(x_values, y_values, edgecolor='black')
plt.plot(x_values, values, color='black', linewidth=3)
plt.xlabel("Number of Backers", fontfamily='Calibri', fontsize=14)
plt.ylabel("Pledged Amount", fontfamily='Calibri', fontsize=14)
plt.title("Regression: Successful Campaigns", fontweight="bold", fontfamily='Calibri', fontsize=20)
plt.grid(linestyle="--", color="lightgrey", alpha=0.75)
plt.annotate(line, (1500, 25000), fontsize=14, color="black")
plt.show()


# Perform regression for failed campaigns
failed_df = df2[df2['pledged'] < df2['goal']]
x_values = failed_df['backers_count']
y_values = failed_df['pledged']
(slope, intercept, rvalue, pvalue, stderr) = sc.linregress(x_values, y_values)

# Generate regression values
values = x_values * slope + intercept
line = f"y = {round(slope, 2)}x + {round(intercept, 2)}"

# Print regression stats
print(line)
print(f"R-squared: {rvalue**2:.2f}")
print(f"P-value: {pvalue:.2e}")

# Plot failed campaigns
plt.figure(figsize=(15, 8))
plt.scatter(x_values, y_values, edgecolor='black')
plt.plot(x_values, values, color='black', linewidth=3)
plt.xlabel("Number of Backers", fontfamily='Calibri', fontsize=14)
plt.ylabel("Pledged Amount", fontfamily='Calibri', fontsize=14)
plt.title("Regression: Failed Campaigns", fontweight="bold", fontfamily='Calibri', fontsize=20)
plt.grid(linestyle="--", color="lightgrey", alpha=0.75)
plt.annotate(line, (1500, 20000), fontsize=14, color="black")
plt.show()


# Campaigns by country


#Use SQL to query data for new dataframe
query = """
SELECT
    campaign.cf_id,
    campaign.company_name,
    campaign.description,
    campaign.goal,
    campaign.pledged,
    campaign.outcome,
    campaign.country
FROM
    campaign;
"""
# Execute the query and save the results to a DataFrame
df3 = pd.read_sql(query, con=engine)
df3.head()


df3['country'].unique()


# Create a donut chart showing the distro of campaigns by country
country_count = df3['country'].value_counts()

labels = country_count.index
sizes = country_count.values

# Define the color palette
coolors_palette = ["#386641", "#6a994e", "#a7c957", "#ff5714", "#bc4749", "#577590", "#f4e285"]

# Create a custom colormap from the Coolors palette
cmap = LinearSegmentedColormap.from_list("coolors_gradient", coolors_palette, N=256)

gradient_colors = cmap(np.linspace(0, 1, 7))

# Plot the donut chart
plt.figure(figsize=(8, 8))
plt.pie(
    sizes,
    labels=labels,
    autopct='%1.1f%%',
    startangle=140,
    wedgeprops=dict(width=0.5),
    colors=gradient_colors,
    pctdistance=0.75
)

# Add a title
plt.title("Campaigns by Country", fontsize=16) 

# Show the chart
plt.show()


# Outcome by Country
outcome_country = df3.groupby(["country", "outcome"]).size().reset_index(name="count")

plt.figure(figsize=(15, 10))
sns.barplot(
    data=outcome_country,
    x="country",
    y="count",
    hue="outcome",
    dodge=True
)

plt.title("Outcomes by Country", fontsize=16)
plt.xlabel("Country", fontsize=14)
plt.ylabel("Count", fontsize=14)
plt.legend(title="Outcome", fontsize=12)
plt.xticks(rotation=45, fontsize=12)

plt.show()


# Modify for percentages
outcome_country = df3.groupby(["country", "outcome"]).size().reset_index(name="count")

# Calculate percentages
total_by_country = outcome_country.groupby("country")["count"].transform("sum")
outcome_country["percentage"] = (outcome_country["count"] / total_by_country) * 100

# Plot
plt.figure(figsize=(15, 10))
sns.barplot(
    data=outcome_country,
    x="country",
    y="percentage",
    hue="outcome",
    dodge=True
)

plt.title("Percentage of Campaign Outcomes by Country", fontsize=16)
plt.xlabel("Country", fontsize=14)
plt.ylabel("Percentage", fontsize=14)
plt.legend(title="Outcome", fontsize=12, ncol=outcome_country['outcome'].nunique(), loc='upper left')
plt.xticks(rotation=45, fontsize=12)

plt.show()


#SQL query for percentage of successful campaigns by country
query = """
SELECT 
    country,
    COUNT(CASE WHEN outcome = 'successful' THEN 1 END) AS successful_count,
    COUNT(*) AS total_campaigns,
    ROUND(
        (COUNT(CASE WHEN outcome = 'successful' THEN 1 END) * 100.0 / COUNT(*)),
        2
    ) AS success_rate
FROM 
    campaign
GROUP BY 
    country
ORDER BY 
    success_rate DESC;
"""

# Execute the query and save the results to a DataFrame
df4 = pd.read_sql(query, con=engine)

# Display the results
df4


#SQL query for percentage of failed campaigns by country
query = """
SELECT 
    country,
    COUNT(CASE WHEN outcome = 'failed' THEN 1 END) AS failed_count,
    COUNT(*) AS total_campaigns,
    ROUND(
        (COUNT(CASE WHEN outcome = 'failed' THEN 1 END) * 100.0 / COUNT(*)),
        2
    ) AS failed_rate
FROM 
    campaign
GROUP BY 
    country
ORDER BY 
    failed_rate DESC;
"""

# Execute the query and save the results to a DataFrame
df4 = pd.read_sql(query, con=engine)

# Display the results
df4


#SQL query for percentage of canceled campaigns by country
query = """
SELECT 
    country,
    COUNT(CASE WHEN outcome = 'canceled' THEN 1 END) AS canceled_count,
    COUNT(*) AS total_campaigns,
    ROUND(
        (COUNT(CASE WHEN outcome = 'canceled' THEN 1 END) * 100.0 / COUNT(*)),
        2
    ) AS canceled_rate
FROM 
    campaign
GROUP BY 
    country
ORDER BY 
    canceled_rate DESC;
"""

# Execute the query and save the results to a DataFrame
df4 = pd.read_sql(query, con=engine)

# Display the results
df4


#SQL query for percentage of live campaigns by country
query = """
SELECT 
    country,
    COUNT(CASE WHEN outcome = 'live' THEN 1 END) AS live_count,
    COUNT(*) AS total_campaigns,
    ROUND(
        (COUNT(CASE WHEN outcome = 'live' THEN 1 END) * 100.0 / COUNT(*)),
        2
    ) AS live_rate
FROM 
    campaign
GROUP BY 
    country
ORDER BY 
    live_rate DESC;
"""

# Execute the query and save the results to a DataFrame
df4 = pd.read_sql(query, con=engine)

# Display the results
df4


session.close()


engine.dispose()
