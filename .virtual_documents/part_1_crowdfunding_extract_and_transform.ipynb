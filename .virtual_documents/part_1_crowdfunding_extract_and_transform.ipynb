# Import dependencies
import pandas as pd
import numpy as np
from datetime import datetime as dt
import json
# Set the column width
pd.set_option('max_colwidth', 400)





# Read the data into a Pandas DataFrame
crowdfunding_info_df = pd.read_excel('Resources/crowdfunding.xlsx')
crowdfunding_info_df.head()


# Get a brief summary of the crowdfunding_info DataFrame.
crowdfunding_info_df.info()





# Get the crowdfunding_info_df columns.
crowdfunding_df_columns = crowdfunding_info_df.columns
crowdfunding_df_columns


# Assign the category and subcategory values to category and subcategory columns.
columns = ['category', 'sub-category']
crowdfunding_info_df[columns] = crowdfunding_info_df['category & sub-category'].str.split('/', expand=True)
crowdfunding_info_df.head()


# Get the unique categories and subcategories in separate lists.
categories = crowdfunding_info_df['category'].unique()
subcategories = crowdfunding_info_df['sub-category'].unique()
print(categories)
print(subcategories)


# Get the number of distinct values in the categories and subcategories lists.
print(len(categories))
print(len(subcategories))


# Create numpy arrays from 1-9 for the categories and 1-24 for the subcategories.
category_ids = np.arange(1, 10)
subcategory_ids = np.arange(1, 25)

print(category_ids)
print(subcategory_ids)


# Use a list comprehension to add "cat" to each category_id.
cat_ids = ['cat' + str(cat_id) for cat_id in category_ids]

# Use a list comprehension to add "subcat" to each subcategory_id.
scat_ids = ['subcat' + str(scat_id) for scat_id in subcategory_ids]

print(cat_ids)
print(scat_ids)


# Create a category DataFrame with the category_id array as the category_id and categories list as the category name.
category_df = pd.DataFrame({'category_id': cat_ids, 'category': categories})

# Create a category DataFrame with the subcategory_id array as the subcategory_id and subcategories list as the subcategory name.
subcategory_df = pd.DataFrame({'subcategory_id': scat_ids, 'sub-category': subcategories})


# View the category_df
category_df


# View the subcategory_df
subcategory_df


# Export categories_df and subcategories_df as CSV files.
category_df.to_csv("Resources/category.csv", index=False)

subcategory_df.to_csv("Resources/subcategory.csv", index=False)





# Create a copy of the crowdfunding_info_df DataFrame name campaign_df.
campaign_df = crowdfunding_info_df.copy()
campaign_df.head()


# Rename the blurb, launched_at, and deadline columns.
campaign_df = campaign_df.rename(columns={'blurb': 'description',
                                          'launched_at': 'launched_date',
                                          'deadline': 'end_date'})

campaign_df.head()


# Convert the goal and pledged columns to a `float` data type.
campaign_df[["goal", "pledged"]] = campaign_df[["goal", "pledged"]].astype(float)
campaign_df.head()


# Check the datatypes
campaign_df.info()


# Format the launch_date and end_date columns to datetime format
from datetime import datetime as dt

campaign_df["end_date"] = pd.to_datetime(campaign_df["end_date"], unit='s').dt.strftime("%Y-%m-%d")
campaign_df["launched_date"] = pd.to_datetime(campaign_df["launched_date"], unit='s').dt.strftime("%Y-%m-%d")

campaign_df.head()


# Merge the campaign_df with the category_df on the "category" column and
# the subcategory_df on the "subcategory" column.
campaign_merged_df = campaign_df.merge(category_df, on="category", how="left").merge(subcategory_df, on="sub-category", how="left")

campaign_merged_df.tail(10)


# Drop unwanted columns, including 'staff_pick' and 'spotlight'
campaign_cleaned = campaign_merged_df.drop(['staff_pick', 'spotlight', 'category & sub-category', 'category', 'sub-category'], axis=1)
campaign_cleaned


# Export the DataFrame as a CSV file.
campaign_cleaned.to_csv("Resources/campaign.csv", index=False)





# Read the data into a Pandas DataFrame. Use the `header=3` parameter when reading in the data.
contact_info_df = pd.read_excel('Resources/contacts.xlsx', header=3)
contact_info_df.head()








dict_values = []

# Iterate through the contact_info_df and convert each row to a dictionary.
columns = ["contact_id", "first_name", "last_name", "email"]
dict_values = []

# Iterate through the contact_info_df and convert each row to a dictionary
for index, row in contact_info_df.iterrows():
    data = row['contact_info']
    converted_data = json.loads(data)
    
    # Extract the required information
    contact_id = converted_data.get('contact_id')
    name = converted_data.get('name')
    email = converted_data.get('email')
    
    # Split the full name into first name and last name
    first_name, last_name = name.split(' ', 1)
    
    # Append the processed row to the list
    dict_values.append([contact_id, first_name, last_name, email])

# Print out the list of dictionaries
print(dict_values)


# Create a contacts_df DataFrame from the list of dictionaries
contacts_df = pd.DataFrame(dict_values, columns=columns)

# Display the resulting DataFrame
contacts_df


# Check the datatypes.
contacts_df.info()


# Create a "first"name" and "last_name" column with the first and last names from the "name" column.
# Drop the contact_name column
# Already completed above


# Reorder the columns
cols = ['first_name', 'last_name', 'email', 'contact_id']
final_contacts_df = contacts_df[cols]
final_contacts_df


# Check the datatypes one more time before exporting as CSV file.
final_contacts_df.info()


# Export the DataFrame as a CSV file.
final_contacts_df.to_csv("Resources/contacts.csv", index=False)





contact_info_df_copy = contact_info_df.copy()
contact_info_df_copy.head()


# Extract the four-digit contact ID number.



# Check the datatypes.



# Convert the "contact_id" column to an int64 data type using `pd.to_numeric`.



# Extract the name of the contact and add it to a new column.



# Extract the email from the contacts and add the values to a new column.



# Create a copy of the contact_info_df with the 'contact_id', 'name', 'email' columns.



# Create a "first"name" and "last_name" column with the first and last names from the "name" column.


# Drop the contact_name column



# Reorder the columns



# Check the datatypes one more time before exporting as CSV file.



# Export the DataFrame as a CSV file.
# contacts_df_clean.to_csv("Resources/contacts.csv", encoding='utf8', index=False)



