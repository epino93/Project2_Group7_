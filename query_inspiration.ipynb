{
 "cells": [
  {
   "cell_type": "code",
   "execution_count": null,
   "id": "82dacd3c-ddf8-4056-8922-2ac8f85b172b",
   "metadata": {},
   "outputs": [],
   "source": [
    "# Import the dependencies\n",
    "import pandas as pd\n",
    "import numpy as np\n",
    "import datetime\n",
    "\n",
    "# Plotting\n",
    "import matplotlib.pyplot as plt\n",
    "import seaborn as sns\n",
    "\n",
    "# ORM Stuff\n",
    "from sqlalchemy import create_engine, inspect, text, func\n",
    "from sqlalchemy.orm import Session\n",
    "from sqlalchemy.ext.automap import automap_base"
   ]
  },
  {
   "cell_type": "code",
   "execution_count": null,
   "id": "8313472e-334b-461d-ba74-8c44b5b6a0bf",
   "metadata": {},
   "outputs": [],
   "source": []
  },
  {
   "cell_type": "code",
   "execution_count": null,
   "id": "288bca87-35ec-494b-9b75-1238e285e23b",
   "metadata": {},
   "outputs": [],
   "source": []
  },
  {
   "cell_type": "code",
   "execution_count": null,
   "id": "1d88ebbb-ca55-41ed-a422-c783cd9720c0",
   "metadata": {},
   "outputs": [],
   "source": [
    "conn = engine.connect()"
   ]
  },
  {
   "cell_type": "code",
   "execution_count": null,
   "id": "668f39bf-068a-42c7-9031-6918fbc90cb6",
   "metadata": {},
   "outputs": [],
   "source": [
    "query = text(f\"\"\"SELECT\n",
    "\tf.rating,\n",
    "\tcount(film_id) as num_films,\n",
    "\tavg(f.rental_rate) as avg_rental_rate\n",
    "FROM\n",
    "\tfilm f\n",
    "GROUP BY\n",
    "\tf.rating\n",
    "ORDER BY\n",
    "\tavg_rental_rate DESC;\n",
    "\"\"\")\n",
    "\n",
    "df = pd.read_sql(query, con=conn)\n",
    "df.head()"
   ]
  },
  {
   "cell_type": "code",
   "execution_count": null,
   "id": "e39fc0e1-862d-45da-a434-6b604d6883b9",
   "metadata": {},
   "outputs": [],
   "source": [
    "plt.bar(df.rating, df.avg_rental_rate)\n",
    "plt.show()"
   ]
  },
  {
   "cell_type": "code",
   "execution_count": null,
   "id": "e22d865e-5999-475c-9ddf-0117c5fb3648",
   "metadata": {},
   "outputs": [],
   "source": [
    "# ORM\n",
    "\n",
    "# Declare a Base using `automap_base()`\n",
    "Base = automap_base()\n",
    "\n",
    "# Use the Base class to reflect the database tables\n",
    "Base.prepare(autoload_with=engine)\n",
    "\n",
    "# Print all of the classes mapped to the Base\n",
    "Base.classes.keys()"
   ]
  },
  {
   "cell_type": "code",
   "execution_count": null,
   "id": "1e306ccf-f12d-4065-a0cd-42280cd2e34c",
   "metadata": {},
   "outputs": [],
   "source": [
    "# Assign Classes\n",
    "Actor = Base.classes.actor\n",
    "Film = Base.classes.film\n",
    "Film_Actor = Base.classes.film_actor"
   ]
  },
  {
   "cell_type": "code",
   "execution_count": null,
   "id": "04a33751-cf7e-42e1-b452-df2cf19802f7",
   "metadata": {},
   "outputs": [],
   "source": [
    "# Create a session\n",
    "session = Session(engine) # ORM"
   ]
  },
  {
   "cell_type": "code",
   "execution_count": null,
   "id": "f0e5922f-f21c-4cfb-9eb6-030a5fa4a896",
   "metadata": {},
   "outputs": [],
   "source": [
    "# Query using the ORM session\n",
    "rows = (\n",
    "    session.query(\n",
    "        Film.rating,\n",
    "        func.count(Film.film_id).label('num_films'),\n",
    "        func.avg(Film.rental_rate).label('avg_rental_rate')\n",
    "    )\n",
    "    .group_by(Film.rating)\n",
    "    .order_by(func.avg(Film.rental_rate).desc())\n",
    "    .all()\n",
    ")\n",
    "\n",
    "dfa = pd.DataFrame(rows)\n",
    "dfa.head()"
   ]
  },
  {
   "cell_type": "code",
   "execution_count": null,
   "id": "b5247170-aa03-481f-980b-eab6fb235ee5",
   "metadata": {},
   "outputs": [],
   "source": [
    "plt.bar(dfa.rating, dfa.avg_rental_rate)\n",
    "plt.show()"
   ]
  },
  {
   "cell_type": "code",
   "execution_count": null,
   "id": "adc5860c-0951-4b96-bdb3-3c732620544a",
   "metadata": {},
   "outputs": [],
   "source": [
    "conn.close()\n",
    "session.close()"
   ]
  },
  {
   "cell_type": "code",
   "execution_count": null,
   "id": "3412bf3c-d595-40eb-be51-3079f0326129",
   "metadata": {},
   "outputs": [],
   "source": [
    "engine.dispose()"
   ]
  }
 ],
 "metadata": {
  "kernelspec": {
   "display_name": "Python 3 (ipykernel)",
   "language": "python",
   "name": "python3"
  },
  "language_info": {
   "codemirror_mode": {
    "name": "ipython",
    "version": 3
   },
   "file_extension": ".py",
   "mimetype": "text/x-python",
   "name": "python",
   "nbconvert_exporter": "python",
   "pygments_lexer": "ipython3",
   "version": "3.12.4"
  }
 },
 "nbformat": 4,
 "nbformat_minor": 5
}
